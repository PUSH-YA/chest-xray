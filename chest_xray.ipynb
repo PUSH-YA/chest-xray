{
  "nbformat": 4,
  "nbformat_minor": 0,
  "metadata": {
    "colab": {
      "provenance": [],
      "authorship_tag": "ABX9TyPXZPNEJDsS6fMmeoyV7v+P",
      "include_colab_link": true
    },
    "kernelspec": {
      "name": "python3",
      "display_name": "Python 3"
    },
    "language_info": {
      "name": "python"
    }
  },
  "cells": [
    {
      "cell_type": "markdown",
      "metadata": {
        "id": "view-in-github",
        "colab_type": "text"
      },
      "source": [
        "<a href=\"https://colab.research.google.com/github/vivaanjhaveri/chest-xray/blob/main/chest_xray.ipynb\" target=\"_parent\"><img src=\"https://colab.research.google.com/assets/colab-badge.svg\" alt=\"Open In Colab\"/></a>"
      ]
    },
    {
      "cell_type": "code",
      "execution_count": 5,
      "metadata": {
        "id": "WBRjy01MvRhX"
      },
      "outputs": [],
      "source": [
        "import os\n",
        "import sys\n",
        "\n",
        "import IPython\n",
        "import matplotlib.pyplot as plt\n",
        "import numpy as np\n",
        "import pandas as pd\n",
        "from IPython.display import HTML\n",
        "\n",
        "sys.path.append(os.path.join(os.path.abspath(\"..\"), \"code\"))\n",
        "import ipywidgets as widgets\n",
        "from IPython.display import display\n",
        "from ipywidgets import interact, interactive\n",
        "from sklearn.dummy import DummyClassifier\n",
        "from sklearn.model_selection import cross_validate, train_test_split\n",
        "from mpl_toolkits.mplot3d import Axes3D\n",
        "from sklearn.preprocessing import StandardScaler"
      ]
    },
    {
      "cell_type": "code",
      "source": [
        "X_train, X_test, y_train, y_test = train_test_split(\n",
        "    X_cities, y_cities, test_size=0.2, random_state=123\n",
        ")"
      ],
      "metadata": {
        "id": "sJpebp91zdl_"
      },
      "execution_count": null,
      "outputs": []
    },
    {
      "cell_type": "code",
      "source": [
        "from sklearn.svm import SVC\n",
        "\n",
        "svm = SVC(gamma=0.01)  # Ignore gamma for now\n",
        "scores = cross_validate(svm, X_train, y_train, return_train_score=True)\n",
        "print(\"Mean validation score %0.3f\" % (np.mean(scores[\"test_score\"])))\n",
        "pd.DataFrame(scores)"
      ],
      "metadata": {
        "id": "jfy3JE854nDL"
      },
      "execution_count": null,
      "outputs": []
    },
    {
      "cell_type": "code",
      "source": [
        "from sklearn.datasets import make_blobs\n",
        "\n",
        "n = 20\n",
        "n_classes = 2\n",
        "X_toy, y_toy = make_blobs(\n",
        "    n_samples=n, centers=n_classes, random_state=300\n",
        ")  # Let's generate some fake data\n",
        "mglearn.discrete_scatter(X_toy[:, 0], X_toy[:, 1], y_toy)\n",
        "plt.xlabel(\"Feature 0\")\n",
        "plt.ylabel(\"Feature 1\")\n",
        "svm = SVC(kernel=\"rbf\", C=10, gamma=0.1).fit(X_toy, y_toy)\n",
        "mglearn.plots.plot_2d_separator(svm, X_toy, fill=True, eps=0.5, alpha=0.4)"
      ],
      "metadata": {
        "id": "pnX8Z0KC4o-a"
      },
      "execution_count": null,
      "outputs": []
    },
    {
      "cell_type": "markdown",
      "source": [
        "# Chest XRay Classification\n"
      ],
      "metadata": {
        "id": "rPurJVTG_hb9"
      }
    },
    {
      "cell_type": "markdown",
      "source": [
        "### UBC Medicine Datathon 2025"
      ],
      "metadata": {
        "id": "JxP_TsWb_oTT"
      }
    },
    {
      "cell_type": "markdown",
      "source": [
        "How can the X-ray data be efficiently represented to then be used for CAD systems?"
      ],
      "metadata": {
        "id": "zmNYqN4Z_bAi"
      }
    }
  ]
}